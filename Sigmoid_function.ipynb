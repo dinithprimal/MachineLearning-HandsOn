{
  "nbformat": 4,
  "nbformat_minor": 0,
  "metadata": {
    "colab": {
      "provenance": [],
      "authorship_tag": "ABX9TyPNc3RzGn4hUXe64LPPUUwQ",
      "include_colab_link": true
    },
    "kernelspec": {
      "name": "python3",
      "display_name": "Python 3"
    },
    "language_info": {
      "name": "python"
    }
  },
  "cells": [
    {
      "cell_type": "markdown",
      "metadata": {
        "id": "view-in-github",
        "colab_type": "text"
      },
      "source": [
        "<a href=\"https://colab.research.google.com/github/dinithprimal/MachineLearning-HandsOn/blob/main/Sigmoid_function.ipynb\" target=\"_parent\"><img src=\"https://colab.research.google.com/assets/colab-badge.svg\" alt=\"Open In Colab\"/></a>"
      ]
    },
    {
      "cell_type": "code",
      "execution_count": 8,
      "metadata": {
        "id": "4f0O5bJJR3Xh"
      },
      "outputs": [],
      "source": [
        "import numpy as np\n",
        "#%matplotlib\n",
        "import matplotlib.pyplot as plt\n",
        "#from plt_one_addpt_onclick import plt_one_addpt_onclick\n",
        "#from lab_utils_common import draw_vthresh\n",
        "#plt.style.use('./deeplearning.mplstyle')"
      ]
    },
    {
      "cell_type": "code",
      "source": [
        "input_array = np.array([1, 2, 3])\n",
        "exp_array = np.exp(input_array)\n",
        "\n",
        "print(\"Input to exp: \", input_array)\n",
        "print(\"Output of exp: \", exp_array)\n",
        "\n",
        "# Input is a single number\n",
        "input_val = 1  \n",
        "exp_val = np.exp(input_val)\n",
        "\n",
        "print(\"Input to exp:\", input_val)\n",
        "print(\"Output of exp:\", exp_val)"
      ],
      "metadata": {
        "colab": {
          "base_uri": "https://localhost:8080/"
        },
        "id": "9XnkEP8iSEE9",
        "outputId": "ef0ce142-1373-42f1-966a-b66241c76e72"
      },
      "execution_count": 13,
      "outputs": [
        {
          "output_type": "stream",
          "name": "stdout",
          "text": [
            "Input to exp:  [1 2 3]\n",
            "Output of exp:  [ 2.71828183  7.3890561  20.08553692]\n",
            "Input to exp: 1\n",
            "Output of exp: 2.718281828459045\n"
          ]
        }
      ]
    },
    {
      "cell_type": "code",
      "source": [
        "def sigmoid(z):\n",
        "  \"\"\"\n",
        "  Compute the sigmoid of Z\n",
        "\n",
        "  Args:\n",
        "    z (ndarray): A scalar, numpy array of any size\n",
        "\n",
        "  Returns:\n",
        "    g (ndarray): sigmoid(z), with the same shape as Z\n",
        "  \"\"\"\n",
        "\n",
        "  g = 1/(1+np.exp(-z))\n",
        "\n",
        "  return g"
      ],
      "metadata": {
        "id": "ZRC2Ll3xSuGJ"
      },
      "execution_count": 14,
      "outputs": []
    },
    {
      "cell_type": "code",
      "source": [
        "# Generate an array of evenly spaced values between -10 and 10\n",
        "z_tmp = np.arange(-10, 11)\n",
        "\n",
        "# Use the function imlemented above to get the sigmoid values\n",
        "y = sigmoid(z_tmp)\n",
        "\n",
        "# Code for pretty printing the two arrays next to each other\n",
        "np.set_printoptions(precision=3)\n",
        "print(\"Input (z), output (sigmoid(z))\")\n",
        "print(np.c_[z_tmp, y])"
      ],
      "metadata": {
        "colab": {
          "base_uri": "https://localhost:8080/"
        },
        "id": "7SQRnYZdTxuU",
        "outputId": "c1020054-a6b0-4c57-c14c-a7768cac0e4c"
      },
      "execution_count": 17,
      "outputs": [
        {
          "output_type": "stream",
          "name": "stdout",
          "text": [
            "Input (z), output (sigmoid(z))\n",
            "[[-1.000e+01  4.540e-05]\n",
            " [-9.000e+00  1.234e-04]\n",
            " [-8.000e+00  3.354e-04]\n",
            " [-7.000e+00  9.111e-04]\n",
            " [-6.000e+00  2.473e-03]\n",
            " [-5.000e+00  6.693e-03]\n",
            " [-4.000e+00  1.799e-02]\n",
            " [-3.000e+00  4.743e-02]\n",
            " [-2.000e+00  1.192e-01]\n",
            " [-1.000e+00  2.689e-01]\n",
            " [ 0.000e+00  5.000e-01]\n",
            " [ 1.000e+00  7.311e-01]\n",
            " [ 2.000e+00  8.808e-01]\n",
            " [ 3.000e+00  9.526e-01]\n",
            " [ 4.000e+00  9.820e-01]\n",
            " [ 5.000e+00  9.933e-01]\n",
            " [ 6.000e+00  9.975e-01]\n",
            " [ 7.000e+00  9.991e-01]\n",
            " [ 8.000e+00  9.997e-01]\n",
            " [ 9.000e+00  9.999e-01]\n",
            " [ 1.000e+01  1.000e+00]]\n"
          ]
        }
      ]
    },
    {
      "cell_type": "code",
      "source": [
        "# Plot z vs sigmoid(z)\n",
        "fig,ax = plt.subplots(1,1, figsize=(5,3))\n",
        "ax.plot(z_tmp, y, c='b')\n",
        "\n",
        "ax.set_title(\"Sigmoid Funciton\")\n",
        "ax.set_ylabel('sigmoid(z)')\n",
        "ax.set_xlabel('z')\n",
        "#draw_vthresh(ax,0)"
      ],
      "metadata": {
        "colab": {
          "base_uri": "https://localhost:8080/",
          "height": 258
        },
        "id": "xPbijUFfVZoP",
        "outputId": "328fd199-a652-4aad-ca62-df9ba99a5f27"
      },
      "execution_count": 18,
      "outputs": [
        {
          "output_type": "execute_result",
          "data": {
            "text/plain": [
              "Text(0.5, 0, 'z')"
            ]
          },
          "metadata": {},
          "execution_count": 18
        },
        {
          "output_type": "display_data",
          "data": {
            "text/plain": [
              "<Figure size 360x216 with 1 Axes>"
            ],
            "image/png": "[encoded data removed]"
          },
          "metadata": {
            "needs_background": "light"
          }
        }
      ]
    },
    {
      "cell_type": "code",
      "source": [
        "x_train = np.array([0., 1, 2, 3, 4, 5])\n",
        "y_train = np.array([0, 0, 0, 1, 1, 1])\n",
        "\n",
        "w_in = np.zeros((1))\n",
        "b_in = 0"
      ],
      "metadata": {
        "id": "xKXFFPIxXOtd"
      },
      "execution_count": 19,
      "outputs": []
    }
  ]
}