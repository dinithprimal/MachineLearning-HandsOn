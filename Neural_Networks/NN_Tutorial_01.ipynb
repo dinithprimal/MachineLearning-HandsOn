{
  "nbformat": 4,
  "nbformat_minor": 0,
  "metadata": {
    "colab": {
      "provenance": [],
      "authorship_tag": "ABX9TyNWtwT3yYArb1JwmXyZq13S",
      "include_colab_link": true
    },
    "kernelspec": {
      "name": "python3",
      "display_name": "Python 3"
    },
    "language_info": {
      "name": "python"
    }
  },
  "cells": [
    {
      "cell_type": "markdown",
      "metadata": {
        "id": "view-in-github",
        "colab_type": "text"
      },
      "source": [
        "<a href=\"https://colab.research.google.com/github/dinithprimal/MachineLearning-HandsOn/blob/main/Neural_Networks/NN_Tutorial_01.ipynb\" target=\"_parent\"><img src=\"https://colab.research.google.com/assets/colab-badge.svg\" alt=\"Open In Colab\"/></a>"
      ]
    },
    {
      "cell_type": "markdown",
      "source": [
        "Parctice 01: Python 01\n",
        "\n",
        "[] # Calculte how much money you would have if you compond $100 at 10% for 8 years"
      ],
      "metadata": {
        "id": "YK5u4n3a5e9w"
      }
    },
    {
      "cell_type": "code",
      "execution_count": null,
      "metadata": {
        "colab": {
          "base_uri": "https://localhost:8080/"
        },
        "id": "ZVLg4dCh5V5x",
        "outputId": "c2ffff40-9436-4f30-d8b2-2a65b106e572"
      },
      "outputs": [
        {
          "output_type": "stream",
          "name": "stdout",
          "text": [
            "214.35888100000017\n"
          ]
        }
      ],
      "source": [
        "print(100*1.1**8)"
      ]
    },
    {
      "cell_type": "markdown",
      "source": [
        "Question 02\n",
        "\n",
        "[] # Try to execute the following code"
      ],
      "metadata": {
        "id": "dvIYus227lp_"
      }
    },
    {
      "cell_type": "code",
      "source": [
        "days = 7\n",
        "\n",
        "print(\"There are \" + str(days) + \" days in a week\")"
      ],
      "metadata": {
        "colab": {
          "base_uri": "https://localhost:8080/"
        },
        "id": "t8gUDrtT7sa3",
        "outputId": "86a1b564-2d56-4e80-e90c-08eef3acc433"
      },
      "execution_count": null,
      "outputs": [
        {
          "output_type": "stream",
          "name": "stdout",
          "text": [
            "There are 7 days in a week\n"
          ]
        }
      ]
    },
    {
      "cell_type": "markdown",
      "source": [
        "There are 4 data types in the Python programming language. These data types let you group items into collection wiht specific properties (that you can then manupulate further later)\n",
        "\n",
        "\n",
        "*   **List** : A collection which is odered and changable. Allows duplicate members.\n",
        "*   **Dictionaries**: A collection which are unodered, changable and indexed. No duplicate members.\n",
        "*   **Tuples**: A collection which is ordered and unchangable. Allow duplicate memberes\n",
        "*   **Sets**: A collection which is unordered and unindexed. No duplicate members.\n",
        "\n",
        "\n",
        "\n"
      ],
      "metadata": {
        "id": "1Jye6p0Q8DJL"
      }
    },
    {
      "cell_type": "code",
      "source": [
        " # create a list with the fllowing elements [\"Tuesday\", \"Wednesday\", \"Thursday\", \"Friday\",\n",
        " # \"Saturday\", Sunday, 42]. Add the String value \"Someday\" into this list\n",
        "\n",
        " # Add the variable 'days' that you previously created into this list\n",
        "\n",
        " "
      ],
      "metadata": {
        "id": "chrb-we_8WLY"
      },
      "execution_count": null,
      "outputs": []
    },
    {
      "cell_type": "code",
      "source": [
        "list = [\"Tuesday\", \"Wednesday\", \"Thursday\", \"Friday\", \"Saturday\", \"Sunday\", 42];\n",
        "list.append(\"Someday\")\n",
        "list.append(days)\n",
        "\n",
        "print(list)"
      ],
      "metadata": {
        "colab": {
          "base_uri": "https://localhost:8080/"
        },
        "id": "xDGUyiEuC-75",
        "outputId": "4dcf9ea7-1b54-4988-f58a-36ea5d3a7dd0"
      },
      "execution_count": null,
      "outputs": [
        {
          "output_type": "stream",
          "name": "stdout",
          "text": [
            "['Tuesday', 'Wednesday', 'Thursday', 'Friday', 'Saturday', 'Sunday', 42, 'Someday', 7]\n"
          ]
        }
      ]
    },
    {
      "cell_type": "code",
      "source": [
        "sliced_list = list[0:8]\n",
        "sliced_list.remove(42)\n",
        "sliced_list[6] = \"Monday\"\n",
        "print(sliced_list)\n"
      ],
      "metadata": {
        "colab": {
          "base_uri": "https://localhost:8080/"
        },
        "id": "9kmh5dqvC5ld",
        "outputId": "4e8215f0-e04b-4de9-8b36-3b0a460ddeeb"
      },
      "execution_count": null,
      "outputs": [
        {
          "output_type": "stream",
          "name": "stdout",
          "text": [
            "['Tuesday', 'Wednesday', 'Thursday', 'Friday', 'Saturday', 'Sunday', 'Monday']\n"
          ]
        }
      ]
    },
    {
      "cell_type": "code",
      "source": [
        "# Create a dictionary with the following key:Value pairs.\n",
        "# 'name': ['John','Mary','Peter','Jeff','Bill','Lisa','Jose']\n",
        "# 'age': [23,78,22,19,45,33,20]\n",
        "# 'gender': ['M','F','M','M','M','F','M']\n",
        "# 'State': ['califonia','dc','califonia','dc','califonia','texas','texas']\n",
        "# 'num_children':[2,0,0,3,2,1,4]\n",
        "\n",
        "dict = {\n",
        "    'name': ['John','Mary','Peter','Jeff','Bill','Lisa','Jose'],\n",
        "    'age': [23,78,22,19,45,33,20],\n",
        "    'gender': ['M','F','M','M','M','F','M'],\n",
        "    'State': ['califonia','dc','califonia','dc','califonia','texas','texas'],\n",
        "    'num_children':[2,0,0,3,2,1,4]\n",
        "}\n",
        "\n",
        "dict"
      ],
      "metadata": {
        "colab": {
          "base_uri": "https://localhost:8080/"
        },
        "id": "YVyyRXjwJSau",
        "outputId": "4e92f2ac-1eb7-4011-d4d6-afe1e752f160"
      },
      "execution_count": null,
      "outputs": [
        {
          "output_type": "execute_result",
          "data": {
            "text/plain": [
              "{'name': ['John', 'Mary', 'Peter', 'Jeff', 'Bill', 'Lisa', 'Jose'],\n",
              " 'age': [23, 78, 22, 19, 45, 33, 20],\n",
              " 'gender': ['M', 'F', 'M', 'M', 'M', 'F', 'M'],\n",
              " 'State': ['califonia',\n",
              "  'dc',\n",
              "  'califonia',\n",
              "  'dc',\n",
              "  'califonia',\n",
              "  'texas',\n",
              "  'texas'],\n",
              " 'num_children': [2, 0, 0, 3, 2, 1, 4]}"
            ]
          },
          "metadata": {},
          "execution_count": 6
        }
      ]
    },
    {
      "cell_type": "code",
      "source": [
        "# add the following key: values pair to the dictionary\n",
        "# 'num_pets': [5,1,0,5,2,2,3]\n",
        "\n",
        "dict['num_pets'] = [5,1,0,5,2,2,3]\n",
        "\n",
        "dict"
      ],
      "metadata": {
        "colab": {
          "base_uri": "https://localhost:8080/"
        },
        "id": "W0iPnPRDJvek",
        "outputId": "cf1d1b18-1920-4fa3-a3ed-58c33f48818c"
      },
      "execution_count": null,
      "outputs": [
        {
          "output_type": "execute_result",
          "data": {
            "text/plain": [
              "{'name': ['John', 'Mary', 'Peter', 'Jeff', 'Bill', 'Lisa', 'Jose'],\n",
              " 'age': [23, 78, 22, 19, 45, 33, 20],\n",
              " 'gender': ['M', 'F', 'M', 'M', 'M', 'F', 'M'],\n",
              " 'State': ['califonia',\n",
              "  'dc',\n",
              "  'califonia',\n",
              "  'dc',\n",
              "  'califonia',\n",
              "  'texas',\n",
              "  'texas'],\n",
              " 'num_children': [2, 0, 0, 3, 2, 1, 4],\n",
              " 'num_pets': [5, 1, 0, 5, 2, 2, 3]}"
            ]
          },
          "metadata": {},
          "execution_count": 7
        }
      ]
    },
    {
      "cell_type": "code",
      "source": [
        "# import the pandas library as pd and the matplotlib.pyplot as plt. Convert the dictionry above to the a dataframe\n",
        "\n",
        "import pandas as pd\n",
        "import matplotlib.pyplot as plt\n",
        "\n",
        "df = pd.DataFrame(data = dict)\n",
        "\n",
        "df"
      ],
      "metadata": {
        "colab": {
          "base_uri": "https://localhost:8080/",
          "height": 269
        },
        "id": "BbT3Y7i4KdHV",
        "outputId": "59cc0a73-5c3f-4d0d-864a-07261568fe6d"
      },
      "execution_count": null,
      "outputs": [
        {
          "output_type": "execute_result",
          "data": {
            "text/plain": [
              "    name  age gender      State  num_children  num_pets\n",
              "0   John   23      M  califonia             2         5\n",
              "1   Mary   78      F         dc             0         1\n",
              "2  Peter   22      M  califonia             0         0\n",
              "3   Jeff   19      M         dc             3         5\n",
              "4   Bill   45      M  califonia             2         2\n",
              "5   Lisa   33      F      texas             1         2\n",
              "6   Jose   20      M      texas             4         3"
            ],
            "text/html": [
              "\n",
              "  <div id=\"df-7cd0fb45-d769-434e-86d1-e43caa0bccc3\">\n",
              "    <div class=\"colab-df-container\">\n",
              "      <div>\n",
              "<style scoped>\n",
              "    .dataframe tbody tr th:only-of-type {\n",
              "        vertical-align: middle;\n",
              "    }\n",
              "\n",
              "    .dataframe tbody tr th {\n",
              "        vertical-align: top;\n",
              "    }\n",
              "\n",
              "    .dataframe thead th {\n",
              "        text-align: right;\n",
              "    }\n",
              "</style>\n",
              "<table border=\"1\" class=\"dataframe\">\n",
              "  <thead>\n",
              "    <tr style=\"text-align: right;\">\n",
              "      <th></th>\n",
              "      <th>name</th>\n",
              "      <th>age</th>\n",
              "      <th>gender</th>\n",
              "      <th>State</th>\n",
              "      <th>num_children</th>\n",
              "      <th>num_pets</th>\n",
              "    </tr>\n",
              "  </thead>\n",
              "  <tbody>\n",
              "    <tr>\n",
              "      <th>0</th>\n",
              "      <td>John</td>\n",
              "      <td>23</td>\n",
              "      <td>M</td>\n",
              "      <td>califonia</td>\n",
              "      <td>2</td>\n",
              "      <td>5</td>\n",
              "    </tr>\n",
              "    <tr>\n",
              "      <th>1</th>\n",
              "      <td>Mary</td>\n",
              "      <td>78</td>\n",
              "      <td>F</td>\n",
              "      <td>dc</td>\n",
              "      <td>0</td>\n",
              "      <td>1</td>\n",
              "    </tr>\n",
              "    <tr>\n",
              "      <th>2</th>\n",
              "      <td>Peter</td>\n",
              "      <td>22</td>\n",
              "      <td>M</td>\n",
              "      <td>califonia</td>\n",
              "      <td>0</td>\n",
              "      <td>0</td>\n",
              "    </tr>\n",
              "    <tr>\n",
              "      <th>3</th>\n",
              "      <td>Jeff</td>\n",
              "      <td>19</td>\n",
              "      <td>M</td>\n",
              "      <td>dc</td>\n",
              "      <td>3</td>\n",
              "      <td>5</td>\n",
              "    </tr>\n",
              "    <tr>\n",
              "      <th>4</th>\n",
              "      <td>Bill</td>\n",
              "      <td>45</td>\n",
              "      <td>M</td>\n",
              "      <td>califonia</td>\n",
              "      <td>2</td>\n",
              "      <td>2</td>\n",
              "    </tr>\n",
              "    <tr>\n",
              "      <th>5</th>\n",
              "      <td>Lisa</td>\n",
              "      <td>33</td>\n",
              "      <td>F</td>\n",
              "      <td>texas</td>\n",
              "      <td>1</td>\n",
              "      <td>2</td>\n",
              "    </tr>\n",
              "    <tr>\n",
              "      <th>6</th>\n",
              "      <td>Jose</td>\n",
              "      <td>20</td>\n",
              "      <td>M</td>\n",
              "      <td>texas</td>\n",
              "      <td>4</td>\n",
              "      <td>3</td>\n",
              "    </tr>\n",
              "  </tbody>\n",
              "</table>\n",
              "</div>\n",
              "      <button class=\"colab-df-convert\" onclick=\"convertToInteractive('df-7cd0fb45-d769-434e-86d1-e43caa0bccc3')\"\n",
              "              title=\"Convert this dataframe to an interactive table.\"\n",
              "              style=\"display:none;\">\n",
              "        \n",
              "  <svg xmlns=\"http://www.w3.org/2000/svg\" height=\"24px\"viewBox=\"0 0 24 24\"\n",
              "       width=\"24px\">\n",
              "    <path d=\"M0 0h24v24H0V0z\" fill=\"none\"/>\n",
              "    <path d=\"M18.56 5.44l.94 2.06.94-2.06 2.06-.94-2.06-.94-.94-2.06-.94 2.06-2.06.94zm-11 1L8.5 8.5l.94-2.06 2.06-.94-2.06-.94L8.5 2.5l-.94 2.06-2.06.94zm10 10l.94 2.06.94-2.06 2.06-.94-2.06-.94-.94-2.06-.94 2.06-2.06.94z\"/><path d=\"M17.41 7.96l-1.37-1.37c-.4-.4-.92-.59-1.43-.59-.52 0-1.04.2-1.43.59L10.3 9.45l-7.72 7.72c-.78.78-.78 2.05 0 2.83L4 21.41c.39.39.9.59 1.41.59.51 0 1.02-.2 1.41-.59l7.78-7.78 2.81-2.81c.8-.78.8-2.07 0-2.86zM5.41 20L4 18.59l7.72-7.72 1.47 1.35L5.41 20z\"/>\n",
              "  </svg>\n",
              "      </button>\n",
              "      \n",
              "  <style>\n",
              "    .colab-df-container {\n",
              "      display:flex;\n",
              "      flex-wrap:wrap;\n",
              "      gap: 12px;\n",
              "    }\n",
              "\n",
              "    .colab-df-convert {\n",
              "      background-color: #E8F0FE;\n",
              "      border: none;\n",
              "      border-radius: 50%;\n",
              "      cursor: pointer;\n",
              "      display: none;\n",
              "      fill: #1967D2;\n",
              "      height: 32px;\n",
              "      padding: 0 0 0 0;\n",
              "      width: 32px;\n",
              "    }\n",
              "\n",
              "    .colab-df-convert:hover {\n",
              "      background-color: #E2EBFA;\n",
              "      box-shadow: 0px 1px 2px rgba(60, 64, 67, 0.3), 0px 1px 3px 1px rgba(60, 64, 67, 0.15);\n",
              "      fill: #174EA6;\n",
              "    }\n",
              "\n",
              "    [theme=dark] .colab-df-convert {\n",
              "      background-color: #3B4455;\n",
              "      fill: #D2E3FC;\n",
              "    }\n",
              "\n",
              "    [theme=dark] .colab-df-convert:hover {\n",
              "      background-color: #434B5C;\n",
              "      box-shadow: 0px 1px 3px 1px rgba(0, 0, 0, 0.15);\n",
              "      filter: drop-shadow(0px 1px 2px rgba(0, 0, 0, 0.3));\n",
              "      fill: #FFFFFF;\n",
              "    }\n",
              "  </style>\n",
              "\n",
              "      <script>\n",
              "        const buttonEl =\n",
              "          document.querySelector('#df-7cd0fb45-d769-434e-86d1-e43caa0bccc3 button.colab-df-convert');\n",
              "        buttonEl.style.display =\n",
              "          google.colab.kernel.accessAllowed ? 'block' : 'none';\n",
              "\n",
              "        async function convertToInteractive(key) {\n",
              "          const element = document.querySelector('#df-7cd0fb45-d769-434e-86d1-e43caa0bccc3');\n",
              "          const dataTable =\n",
              "            await google.colab.kernel.invokeFunction('convertToInteractive',\n",
              "                                                     [key], {});\n",
              "          if (!dataTable) return;\n",
              "\n",
              "          const docLinkHtml = 'Like what you see? Visit the ' +\n",
              "            '<a target=\"_blank\" href=https://colab.research.google.com/notebooks/data_table.ipynb>data table notebook</a>'\n",
              "            + ' to learn more about interactive tables.';\n",
              "          element.innerHTML = '';\n",
              "          dataTable['output_type'] = 'display_data';\n",
              "          await google.colab.output.renderOutput(dataTable, element);\n",
              "          const docLink = document.createElement('div');\n",
              "          docLink.innerHTML = docLinkHtml;\n",
              "          element.appendChild(docLink);\n",
              "        }\n",
              "      </script>\n",
              "    </div>\n",
              "  </div>\n",
              "  "
            ]
          },
          "metadata": {},
          "execution_count": 8
        }
      ]
    },
    {
      "cell_type": "code",
      "source": [
        "df.plot.scatter('num_children', 'num_pets')"
      ],
      "metadata": {
        "colab": {
          "base_uri": "https://localhost:8080/",
          "height": 297
        },
        "id": "SMOJht4TLk3R",
        "outputId": "7f78b27b-e653-4bb0-91f7-372e22fd3ee4"
      },
      "execution_count": null,
      "outputs": [
        {
          "output_type": "execute_result",
          "data": {
            "text/plain": [
              "<matplotlib.axes._subplots.AxesSubplot at 0x7fe34789c3d0>"
            ]
          },
          "metadata": {},
          "execution_count": 9
        },
        {
          "output_type": "display_data",
          "data": {
            "text/plain": [
              "<Figure size 432x288 with 1 Axes>"
            ],
            "image/png": "[encoded data removed]"
          },
          "metadata": {
            "needs_background": "light"
          }
        }
      ]
    },
    {
      "cell_type": "code",
      "source": [
        "# plot a bar plot of 'name' against 'age'\n",
        "\n",
        "df.plot.bar('name', 'age')"
      ],
      "metadata": {
        "colab": {
          "base_uri": "https://localhost:8080/",
          "height": 312
        },
        "id": "rKTDpkN8MBL8",
        "outputId": "40015e67-df89-4204-c9c5-624e7fdeb56e"
      },
      "execution_count": null,
      "outputs": [
        {
          "output_type": "execute_result",
          "data": {
            "text/plain": [
              "<matplotlib.axes._subplots.AxesSubplot at 0x7fe34792cb10>"
            ]
          },
          "metadata": {},
          "execution_count": 10
        },
        {
          "output_type": "display_data",
          "data": {
            "text/plain": [
              "<Figure size 432x288 with 1 Axes>"
            ],
            "image/png": "[encoded data removed]"
          },
          "metadata": {
            "needs_background": "light"
          }
        }
      ]
    },
    {
      "cell_type": "markdown",
      "source": [
        "**Python 2**\n",
        "\n",
        "Third-Party Python Libraries\n",
        "\n",
        "a. NumPy (for low-level math operations)\n",
        "\n",
        "b. Pandas (for data loading and manupulation)\n",
        "\n",
        "c. Matplotlib and Seaborn (for data visualization)\n",
        "\n",
        "\n"
      ],
      "metadata": {
        "id": "2NxjmScTNmDN"
      }
    },
    {
      "cell_type": "markdown",
      "source": [
        "**NumPy**\n",
        "\n",
        "The purpose of this tutorial is to familiarize with NumPy array creation, its operations like slicing, indexing, transposing and some important mathematical functions.\n",
        "\n",
        "* NumPy is a N-dimention array type called ndarray\n",
        "* It describes the collection of items of the same type. Each element in ndarray is an object of data-type object (called dtype)\n",
        "* images are loaded into NumPy array\n",
        "\n",
        "1. Create a 1-D NumPy array 'A', from list [5 8 10 5 4 3 2 1], check its parameters (ndim, shape, itemsize, dtype)"
      ],
      "metadata": {
        "id": "LBDm9pUiQYOo"
      }
    },
    {
      "cell_type": "code",
      "source": [
        "import numpy as np\n",
        "A = np.array([5,8,10,5,4,3,2,1], dtype=int)\n",
        "print('ndim = {}, shape = {}, itemsize = {}, datatype = {}' .format(A.ndim, A.shape, A.itemsize, A.dtype))"
      ],
      "metadata": {
        "id": "8-Uv127RXhu3",
        "colab": {
          "base_uri": "https://localhost:8080/"
        },
        "outputId": "1086813b-dfe5-41d7-b4c6-c9f70c263810"
      },
      "execution_count": null,
      "outputs": [
        {
          "output_type": "stream",
          "name": "stdout",
          "text": [
            "ndim = 1, shape = (8,), itemsize = 8, datatype = int64\n"
          ]
        }
      ]
    },
    {
      "cell_type": "markdown",
      "source": [
        "2. Create a 2-D NumPy array 'B'. Check its parameters B=[[True False] [False True]]"
      ],
      "metadata": {
        "id": "peV_BHuwvRTN"
      }
    },
    {
      "cell_type": "code",
      "source": [
        "B = np.array([[[True,False],[False,False]],[[False, True],[False,False]],[[False, False],[True,False]],[[False, False],[True,False]]],dtype=bool)\n",
        "print(B)\n",
        "print('ndim = {}, shape = {}, itemsize = {}, datatype = {}' .format(B.ndim, B.shape, B.itemsize, B.dtype))"
      ],
      "metadata": {
        "colab": {
          "base_uri": "https://localhost:8080/"
        },
        "id": "Axg4JsIHwDiK",
        "outputId": "d3e8d80a-2ed1-4d86-d2c1-ac5c863b001d"
      },
      "execution_count": null,
      "outputs": [
        {
          "output_type": "stream",
          "name": "stdout",
          "text": [
            "[[[ True False]\n",
            "  [False False]]\n",
            "\n",
            " [[False  True]\n",
            "  [False False]]\n",
            "\n",
            " [[False False]\n",
            "  [ True False]]\n",
            "\n",
            " [[False False]\n",
            "  [ True False]]]\n",
            "ndim = 3, shape = (4, 2, 2), itemsize = 1, datatype = bool\n"
          ]
        }
      ]
    },
    {
      "cell_type": "markdown",
      "source": [
        "**3. Create a 1-D NumPy array 'C' of size 1*4, consisting of all ones i.e. C = [1.1.1.1.]**"
      ],
      "metadata": {
        "id": "B7H2t6Yfx5VE"
      }
    },
    {
      "cell_type": "code",
      "source": [
        "C = np.ones((1,4))\n",
        "print(C)"
      ],
      "metadata": {
        "colab": {
          "base_uri": "https://localhost:8080/"
        },
        "id": "Nsatn_TRybmy",
        "outputId": "a8c86421-9647-4079-d2a0-ecc023e9563f"
      },
      "execution_count": null,
      "outputs": [
        {
          "output_type": "stream",
          "name": "stdout",
          "text": [
            "[[1. 1. 1. 1.]]\n"
          ]
        }
      ]
    },
    {
      "cell_type": "markdown",
      "source": [
        "**4. Create a 2-D NumPy array, 'D' of size 5*4, consisting of number from 0,1,2,3,...,19**"
      ],
      "metadata": {
        "id": "Nr6_KY_-y5Xt"
      }
    },
    {
      "cell_type": "code",
      "source": [
        "D = np.arange(20).reshape(5,4)\n",
        "print(D)"
      ],
      "metadata": {
        "colab": {
          "base_uri": "https://localhost:8080/"
        },
        "id": "CvNySWZuzjaC",
        "outputId": "90b6f94a-df94-487a-ebe8-2ff8b43d45a9"
      },
      "execution_count": null,
      "outputs": [
        {
          "output_type": "stream",
          "name": "stdout",
          "text": [
            "[[ 0  1  2  3]\n",
            " [ 4  5  6  7]\n",
            " [ 8  9 10 11]\n",
            " [12 13 14 15]\n",
            " [16 17 18 19]]\n"
          ]
        }
      ]
    },
    {
      "cell_type": "markdown",
      "source": [
        "**5. Add aray 'C' to array 'D'.**"
      ],
      "metadata": {
        "id": "tiSYeHOf0Hs6"
      }
    },
    {
      "cell_type": "code",
      "source": [
        "print(C+D)"
      ],
      "metadata": {
        "colab": {
          "base_uri": "https://localhost:8080/"
        },
        "id": "jj1SX00y0QCb",
        "outputId": "397479d9-dd2d-4e8d-9941-82c7503468c2"
      },
      "execution_count": null,
      "outputs": [
        {
          "output_type": "stream",
          "name": "stdout",
          "text": [
            "[[ 1.  2.  3.  4.]\n",
            " [ 5.  6.  7.  8.]\n",
            " [ 9. 10. 11. 12.]\n",
            " [13. 14. 15. 16.]\n",
            " [17. 18. 19. 20.]]\n"
          ]
        }
      ]
    },
    {
      "cell_type": "code",
      "source": [
        "print(D+C)"
      ],
      "metadata": {
        "colab": {
          "base_uri": "https://localhost:8080/"
        },
        "id": "0xzQ3a3x0h8t",
        "outputId": "e1551342-7093-452d-8f26-f831212fb9d5"
      },
      "execution_count": null,
      "outputs": [
        {
          "output_type": "stream",
          "name": "stdout",
          "text": [
            "[[ 1.  2.  3.  4.]\n",
            " [ 5.  6.  7.  8.]\n",
            " [ 9. 10. 11. 12.]\n",
            " [13. 14. 15. 16.]\n",
            " [17. 18. 19. 20.]]\n"
          ]
        }
      ]
    },
    {
      "cell_type": "markdown",
      "source": [
        "**6. Transpose the 2-D array 'D'**"
      ],
      "metadata": {
        "id": "fj6BnEQL0vsr"
      }
    },
    {
      "cell_type": "code",
      "source": [
        "print(D.T)"
      ],
      "metadata": {
        "colab": {
          "base_uri": "https://localhost:8080/"
        },
        "id": "Y3P-H8I00-sY",
        "outputId": "9d6e5217-9d6f-4db0-ee22-0e65a5bd5a04"
      },
      "execution_count": null,
      "outputs": [
        {
          "output_type": "stream",
          "name": "stdout",
          "text": [
            "[[ 0  4  8 12 16]\n",
            " [ 1  5  9 13 17]\n",
            " [ 2  6 10 14 18]\n",
            " [ 3  7 11 15 19]]\n"
          ]
        }
      ]
    },
    {
      "cell_type": "markdown",
      "source": [
        "**7. From array 'E' use NumPy 2-D slicing to extract below slice [[0 2 4][10 12 *14*]]**"
      ],
      "metadata": {
        "id": "0Jpys6gM1Emz"
      }
    },
    {
      "cell_type": "code",
      "source": [
        "E = np.arange(20).reshape(5,4)\n",
        "print(E)\n",
        "print(\"\\nAfter slicing operator \\n\")\n",
        "print(E[0:5:2, 0:4:2])"
      ],
      "metadata": {
        "colab": {
          "base_uri": "https://localhost:8080/"
        },
        "id": "Ry22MiTE1TTk",
        "outputId": "86554c04-1870-4fda-d177-1225651a941c"
      },
      "execution_count": null,
      "outputs": [
        {
          "output_type": "stream",
          "name": "stdout",
          "text": [
            "[[ 0  1  2  3]\n",
            " [ 4  5  6  7]\n",
            " [ 8  9 10 11]\n",
            " [12 13 14 15]\n",
            " [16 17 18 19]]\n",
            "\n",
            "After slicing operator \n",
            "\n",
            "[[ 0  2]\n",
            " [ 8 10]\n",
            " [16 18]]\n"
          ]
        }
      ]
    },
    {
      "cell_type": "markdown",
      "source": [
        "**8. From array 'E' extract the coner element using NumPy indexing [[0 4][15 19]]**"
      ],
      "metadata": {
        "id": "GoBycFEH5InC"
      }
    },
    {
      "cell_type": "code",
      "source": [
        "rows = np.array([[0,0],[2,2]])\n",
        "cols = np.array([[0,3],[0,3]])\n",
        "print(E[rows,cols])"
      ],
      "metadata": {
        "colab": {
          "base_uri": "https://localhost:8080/"
        },
        "id": "77wOcPPK5ZCi",
        "outputId": "587db3e1-1b51-45a4-d436-0d92944b0860"
      },
      "execution_count": null,
      "outputs": [
        {
          "output_type": "stream",
          "name": "stdout",
          "text": [
            "[[ 0  3]\n",
            " [ 8 11]]\n"
          ]
        }
      ]
    },
    {
      "cell_type": "markdown",
      "source": [
        "**9. Modify the 'E' array to make center element 0**"
      ],
      "metadata": {
        "id": "NmSxRVf-7UP-"
      }
    },
    {
      "cell_type": "code",
      "source": [
        "E[1:4, 1:3] = 0\n",
        "print('Modified D = \\n', E)"
      ],
      "metadata": {
        "colab": {
          "base_uri": "https://localhost:8080/"
        },
        "id": "fZO81r5e7ckf",
        "outputId": "19ea3c8e-91bd-4837-eb63-51f14b8ae6bd"
      },
      "execution_count": null,
      "outputs": [
        {
          "output_type": "stream",
          "name": "stdout",
          "text": [
            "Modified D = \n",
            " [[ 0  1  2  3]\n",
            " [ 4  0  0  7]\n",
            " [ 8  0  0 11]\n",
            " [12  0  0 15]\n",
            " [16 17 18 19]]\n"
          ]
        }
      ]
    }
  ]
}