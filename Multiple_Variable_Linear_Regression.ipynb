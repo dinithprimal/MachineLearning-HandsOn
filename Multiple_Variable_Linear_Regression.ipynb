{
  "nbformat": 4,
  "nbformat_minor": 0,
  "metadata": {
    "colab": {
      "provenance": [],
      "authorship_tag": "ABX9TyOjST2blt1KfWTXdnlpUcka",
      "include_colab_link": true
    },
    "kernelspec": {
      "name": "python3",
      "display_name": "Python 3"
    },
    "language_info": {
      "name": "python"
    }
  },
  "cells": [
    {
      "cell_type": "markdown",
      "metadata": {
        "id": "view-in-github",
        "colab_type": "text"
      },
      "source": [
        "<a href=\"https://colab.research.google.com/github/dinithprimal/MachineLearning-HandsOn/blob/main/Multiple_Variable_Linear_Regression.ipynb\" target=\"_parent\"><img src=\"https://colab.research.google.com/assets/colab-badge.svg\" alt=\"Open In Colab\"/></a>"
      ]
    },
    {
      "cell_type": "code",
      "execution_count": 4,
      "metadata": {
        "id": "nevfhKRIR2p1"
      },
      "outputs": [],
      "source": [
        "import copy, math\n",
        "import numpy as np\n",
        "import matplotlib.pyplot as plt\n",
        "#plt.style.use('./deeplearning.mplstyle')\n",
        "np.set_printoptions(precision=2)"
      ]
    },
    {
      "cell_type": "markdown",
      "source": [
        "<a name=\"toc_15456_2\"></a>\n",
        "# 2 Problem Statement\n",
        "\n",
        "You will use the motivating example of housing price prediction. The training dataset contains three examples with four features (size, bedrooms, floors and, age) shown in the table below.  Note that, unlike the earlier labs, size is in sqft rather than 1000 sqft. This causes an issue, which you will solve in the next lab!\n",
        "\n",
        "| Size (sqft) | Number of Bedrooms  | Number of floors | Age of  Home | Price (1000s dollars)  |   \n",
        "| ----------------| ------------------- |----------------- |--------------|-------------- |  \n",
        "| 2104            | 5                   | 1                | 45           | 460           |  \n",
        "| 1416            | 3                   | 2                | 40           | 232           |  \n",
        "| 852             | 2                   | 1                | 35           | 178           |  \n",
        "\n",
        "You will build a linear regression model using these values so you can then predict the price for other houses. For example, a house with 1200 sqft, 3 bedrooms, 1 floor, 40 years old.  \n",
        "|"
      ],
      "metadata": {
        "id": "c__WK7dzSzvb"
      }
    },
    {
      "cell_type": "code",
      "source": [
        "X_train = np.array([[2104, 5, 1, 45], [1416, 3, 2, 40], [852, 2, 1, 35]])\n",
        "y_train = np.array([460, 232, 178])"
      ],
      "metadata": {
        "id": "2lNReqUESZJX"
      },
      "execution_count": 5,
      "outputs": []
    },
    {
      "cell_type": "code",
      "source": [
        "# data is stored in numpy array/matrix\n",
        "print(f\"X Shape: {X_train.shape}, X Type: {type(X_train)}\")\n",
        "print(X_train)\n",
        "print(f\"y Shape: {y_train.shape}, y Type: {type(y_train)}\")\n",
        "print(y_train)"
      ],
      "metadata": {
        "colab": {
          "base_uri": "https://localhost:8080/"
        },
        "id": "sXzqwLalTjLP",
        "outputId": "b44a5ac3-6cb5-45c5-ea15-26803d7d2179"
      },
      "execution_count": 6,
      "outputs": [
        {
          "output_type": "stream",
          "name": "stdout",
          "text": [
            "X Shape: (3, 4), X Type: <class 'numpy.ndarray'>\n",
            "[[2104    5    1   45]\n",
            " [1416    3    2   40]\n",
            " [ 852    2    1   35]]\n",
            "y Shape: (3,), y Type: <class 'numpy.ndarray'>\n",
            "[460 232 178]\n"
          ]
        }
      ]
    },
    {
      "cell_type": "code",
      "source": [
        "b_init = 785.1811367994083\n",
        "w_init = np.array([0.39133535, 18.75376741, -53.36032453, -26.42131618])\n",
        "print(f\"w_init shape: {w_init.shape}, b_init type: {type(b_init)}\")\n",
        "print(w_init)"
      ],
      "metadata": {
        "colab": {
          "base_uri": "https://localhost:8080/"
        },
        "id": "9P0rAJkgUZhG",
        "outputId": "672ee29a-8dfb-496c-c482-519285a9f140"
      },
      "execution_count": 8,
      "outputs": [
        {
          "output_type": "stream",
          "name": "stdout",
          "text": [
            "w_init shape: (4,), b_init type: <class 'float'>\n",
            "[  0.39  18.75 -53.36 -26.42]\n"
          ]
        }
      ]
    },
    {
      "cell_type": "code",
      "source": [
        "def predict_single_loop(x, w, b):\n",
        "  \"\"\"\n",
        "  single predict using linear regression\n",
        "\n",
        "  Args:\n",
        "    x (ndarray):  shape (n,) exmple with multiple features\n",
        "    w (ndarray):  shape (n,) model parameters\n",
        "    b (scaler):   model parameters\n",
        "\n",
        "  Returns:\n",
        "    p (scaler):   prediction\n",
        "  \"\"\"\n",
        "  n = x.shape[0]\n",
        "  p = 0\n",
        "  for i in range(n):\n",
        "    p_i = x[i] * w[i]\n",
        "    p = p + p_i\n",
        "  p = p + b\n",
        "  return p"
      ],
      "metadata": {
        "id": "pzcU5c-uVxRw"
      },
      "execution_count": 9,
      "outputs": []
    },
    {
      "cell_type": "code",
      "source": [
        "# get a row from the training data\n",
        "x_vec = X_train[0,:]\n",
        "print(f\"x_vec shape: {x_vec.shape}, x_vec value: {x_vec}\")\n",
        "\n",
        "# make a prediction\n",
        "f_wb = predict_single_loop(x_vec, w_init, b_init)\n",
        "print(f\"f_wb shape: {f_wb.shape}, prediction: {f_wb}\")"
      ],
      "metadata": {
        "colab": {
          "base_uri": "https://localhost:8080/"
        },
        "id": "MJucNkJrX2CY",
        "outputId": "bfc3da75-c1ea-44ff-9bf9-a81fed5b48fd"
      },
      "execution_count": 10,
      "outputs": [
        {
          "output_type": "stream",
          "name": "stdout",
          "text": [
            "x_vec shape: (4,), x_vec value: [2104    5    1   45]\n",
            "f_wb shape: (), prediction: 459.9999976194083\n"
          ]
        }
      ]
    },
    {
      "cell_type": "code",
      "source": [
        "def predict(x, w, b):\n",
        "  \"\"\"\n",
        "  single predict using linear regression\n",
        "  Args:\n",
        "    x (ndarray):  shape (n,) example with multiple features\n",
        "    w (ndarray):  shape (n,) model parameters\n",
        "    b (scaler):   model parameters\n",
        "\n",
        "  Returns:\n",
        "    p (scalar):   prediction\n",
        "  \"\"\"\n",
        "  p = np.dot(x, w) + b\n",
        "  return p"
      ],
      "metadata": {
        "id": "iEexL7AgYub5"
      },
      "execution_count": 22,
      "outputs": []
    },
    {
      "cell_type": "code",
      "source": [
        "# get a row from training set\n",
        "x_vec = X_train[0,:]\n",
        "print(f\"x_vec shape {x_vec.shape}, x_vec value: {x_vec}\")\n",
        "\n",
        "# make a prediction\n",
        "f_wb = predict(x_vec, w_init, b_init)\n",
        "print(f\"f_wb shape {f_wb.shape}, predict: {f_wb}\")"
      ],
      "metadata": {
        "colab": {
          "base_uri": "https://localhost:8080/"
        },
        "id": "c30xcjaNZfKx",
        "outputId": "2071930d-8d98-46b0-da7b-f65033e47f95"
      },
      "execution_count": 23,
      "outputs": [
        {
          "output_type": "stream",
          "name": "stdout",
          "text": [
            "x_vec shape (4,), x_vec value: [2104    5    1   45]\n",
            "f_wb shape (), predict: 459.9999976194083\n"
          ]
        }
      ]
    },
    {
      "cell_type": "code",
      "source": [
        "def compute_cost(X, y, w, b):\n",
        "  \"\"\"\n",
        "  Compute cost\n",
        "  Args:\n",
        "    X (ndarray (m, n)):   Data, m examales with n features\n",
        "    y (ndarray (m,)):     trget values\n",
        "    w (ndarray (n,)):     model parameters\n",
        "    b (scaler):           model parameter\n",
        "\n",
        "  Returns:\n",
        "    cost (scalar):    cost\n",
        "  \"\"\"\n",
        "  m = X.shape[0]\n",
        "  cost = 0.0\n",
        "  for i in range(m):\n",
        "    f_wb_i = np.dot(X[i], w) + b\n",
        "    cost = cost + (f_wb_i - y[i])**2\n",
        "  cost = cost / (2 * m)\n",
        "  return cost"
      ],
      "metadata": {
        "id": "1En1VVFlZhAU"
      },
      "execution_count": 28,
      "outputs": []
    },
    {
      "cell_type": "code",
      "source": [
        "# Compute and display cost using pre-chosen optimal parameters\n",
        "cost = compute_cost(X_train, y_train, w_init, b_init)\n",
        "print(f\"Cost at optimal w : {cost}\")"
      ],
      "metadata": {
        "colab": {
          "base_uri": "https://localhost:8080/"
        },
        "id": "5eIMKIlBpiXy",
        "outputId": "ecc6fa98-7d65-47af-d4a4-80454aac419d"
      },
      "execution_count": 29,
      "outputs": [
        {
          "output_type": "stream",
          "name": "stdout",
          "text": [
            "Cost at optimal w : 1.5578904428966628e-12\n"
          ]
        }
      ]
    },
    {
      "cell_type": "markdown",
      "source": [
        "<a name=\"toc_15456_5\"></a>\n",
        "# 5 Gradient Descent With Multiple Variables\n",
        "Gradient descent for multiple variables:\n",
        "\n",
        "$$\\begin{align*} \\text{repeat}&\\text{ until convergence:} \\; \\lbrace \\newline\\;\n",
        "& w_j = w_j -  \\alpha \\frac{\\partial J(\\mathbf{w},b)}{\\partial w_j} \\tag{5}  \\; & \\text{for j = 0..n-1}\\newline\n",
        "&b\\ \\ = b -  \\alpha \\frac{\\partial J(\\mathbf{w},b)}{\\partial b}  \\newline \\rbrace\n",
        "\\end{align*}$$\n",
        "\n",
        "where, n is the number of features, parameters $w_j$,  $b$, are updated simultaneously and where  \n",
        "\n",
        "$$\n",
        "\\begin{align}\n",
        "\\frac{\\partial J(\\mathbf{w},b)}{\\partial w_j}  &= \\frac{1}{m} \\sum\\limits_{i = 0}^{m-1} (f_{\\mathbf{w},b}(\\mathbf{x}^{(i)}) - y^{(i)})x_{j}^{(i)} \\tag{6}  \\\\\n",
        "\\frac{\\partial J(\\mathbf{w},b)}{\\partial b}  &= \\frac{1}{m} \\sum\\limits_{i = 0}^{m-1} (f_{\\mathbf{w},b}(\\mathbf{x}^{(i)}) - y^{(i)}) \\tag{7}\n",
        "\\end{align}\n",
        "$$\n",
        "* m is the number of training examples in the data set\n",
        "\n",
        "    \n",
        "*  $f_{\\mathbf{w},b}(\\mathbf{x}^{(i)})$ is the model's prediction, while $y^{(i)}$ is the target value"
      ],
      "metadata": {
        "id": "drwa5Cv1q2As"
      }
    },
    {
      "cell_type": "code",
      "source": [
        "def compute_gradient(X, y, w, b):\n",
        "  \"\"\"\n",
        "  Computes the gradient for linear regression\n",
        "  Args:\n",
        "    X (ndarray (m,n)):    Data, m examples with n features\n",
        "    y (ndarray (m,)):     target values\n",
        "    w (ndarray (n,)):     model parameters\n",
        "    b (scaler):           model parameter\n",
        "  \n",
        "  Returns:\n",
        "    dj_dw (ndarray (n,)): The gradient of the cost w.r.t. the parameters w\n",
        "    dj_db (scaler):       The gradient of the cost w.r.t. the parameter b\n",
        "  \"\"\"\n",
        "  m,n = X.shape\n",
        "  dj_dw = np.zeros((n,))\n",
        "  dj_db = 0.\n",
        "\n",
        "  for i in range(m):\n",
        "    err = (np.dot(X[i], w) + b) - y[i]\n",
        "    for j in range(n):\n",
        "      dj_dw[j] = dj_dw[j] + err * X[i, j]\n",
        "    dj_db = dj_db + err\n",
        "  dj_dw = dj_dw / m\n",
        "  dj_db = dj_db / m\n",
        "\n",
        "  return dj_db, dj_dw"
      ],
      "metadata": {
        "id": "GA2DNAocp5h_"
      },
      "execution_count": 34,
      "outputs": []
    },
    {
      "cell_type": "code",
      "source": [
        "# Compute and display graient\n",
        "tmp_dj_db, tmp_dj_dw = compute_gradient(X_train, y_train, w_init, b_init)\n",
        "print(f\"dj_db at initial w, b: {tmp_dj_db}\")\n",
        "print(f\"dj_dw at initial w, b: \\n   {tmp_dj_dw}\")"
      ],
      "metadata": {
        "colab": {
          "base_uri": "https://localhost:8080/"
        },
        "id": "Uuf2sBmAsw8O",
        "outputId": "eacec29a-8382-4df8-e787-b8827f28737d"
      },
      "execution_count": 35,
      "outputs": [
        {
          "output_type": "stream",
          "name": "stdout",
          "text": [
            "dj_db at initial w, b: -1.6739251501955248e-06\n",
            "dj_dw at initial w, b: \n",
            "   [-2.73e-03 -6.27e-06 -2.22e-06 -6.92e-05]\n"
          ]
        }
      ]
    },
    {
      "cell_type": "code",
      "source": [
        "def gradient_descent(X, y, w_in, b_in, cost_function, gradient_function, alpha, num_iters):\n",
        "  \"\"\"\n",
        "  Perform batch gradient decent to learn w and b. Updates w and b by taking\n",
        "  num_inters gradient steps with learining rate alpha\n",
        "\n",
        "  Args:\n",
        "    X (ndarray (m,n))   :   Data, m examples with n features\n",
        "    y (ndarray (m,))    :   target values\n",
        "    w_in (ndarray (n,)) :   initial model parameters\n",
        "    b_in (scaler)       :   initial model parameter\n",
        "    cost_function       :   function to compute cost\n",
        "    gradient_function   :   function to compute the gradient\n",
        "    alpha (float)       :   Learing rate\n",
        "    num_iters (int)     :   number of iterations to run gradient descent\n",
        "\n",
        "  Returns:\n",
        "    w (ndarray (n,))    :   Updated values of parameters\n",
        "    b (scaler)          :   Updated value of parameter\n",
        "  \"\"\"\n",
        "\n",
        "  # An array to store cost J and w's at each iteration primarily for graphing later\n",
        "  j_history = []\n",
        "  w = copy.deepcopy(w_in) # avoid modifying global w within function\n",
        "  b = b_in\n",
        "\n",
        "  for i in range(num_iters):\n",
        "\n",
        "    # Calculate the gradient and update the parameters\n",
        "    dj_db,dj_dw = gradient_function(X, y, w, b)   ##None\n",
        "\n",
        "    # Update parameters using w, b alpha and gradient\n",
        "    w = w - alpha * dj_dw\n",
        "    b = b - alpha * dj_db\n",
        "\n",
        "    # Save cost J at each iteration\n",
        "    if i<100000:     # Prevent resource exhaustion\n",
        "      j_history.append(cost_function(X, y, w, b))\n",
        "\n",
        "    # Print cost every at interval 10 times or as many interations if < 10\n",
        "    if 1% math.ceil(num_iters / 10) == 0:\n",
        "      print(f\"Iteration {i:4d}: Cost {j_history[-1]:8.2f} \")\n",
        "\n",
        "  return w, b, j_history  # Returns final w, b and j history for graphing"
      ],
      "metadata": {
        "id": "ChovK5AxvHm5"
      },
      "execution_count": 36,
      "outputs": []
    },
    {
      "cell_type": "code",
      "source": [
        "# initialize parameters\n",
        "initial_w = np.zeros_like(w_init)\n",
        "initial_b = 0.\n",
        "\n",
        "# Some gradient descent setings\n",
        "iterations = 1000\n",
        "alpha = 5.0e-7\n",
        "\n",
        "# run gradient descent\n",
        "w_final, b_final, J_hist = gradient_descent(X_train, y_train, initial_w, initial_b,\n",
        "                                            compute_cost, compute_gradient,\n",
        "                                            alpha, iterations)\n",
        "print(f\"b,w found by gradient descent: {b_final:0.2f}, {w_final}\")\n",
        "m,_ = X_train.shape\n",
        "for i in range(m):\n",
        "  print(f\"Prediction: {np.dot(X_train[i], w_final) + b_final:0.2f}, target value: {y_train[i]}\")"
      ],
      "metadata": {
        "colab": {
          "base_uri": "https://localhost:8080/"
        },
        "id": "bPykWzhQ0GAZ",
        "outputId": "42c1e521-4008-4dd6-d6bf-73e780eb4c98"
      },
      "execution_count": 37,
      "outputs": [
        {
          "output_type": "stream",
          "name": "stdout",
          "text": [
            "b,w found by gradient descent: -0.00, [ 0.2   0.   -0.01 -0.07]\n",
            "Prediction: 426.19, target value: 460\n",
            "Prediction: 286.17, target value: 232\n",
            "Prediction: 171.47, target value: 178\n"
          ]
        }
      ]
    },
    {
      "cell_type": "code",
      "source": [
        "fig, (ax1, ax2) = plt.subplots(2, 1, constrained_layout=True, figsize=(20, 30))\n",
        "ax1.plot(J_hist)\n",
        "ax2.plot(100 + np.arange(len(J_hist[100:])), J_hist[100:])\n",
        "ax1.set_title(\"Cost vs. iteration\");  ax2.set_title(\"Cost vs. iteration (tail)\")\n",
        "ax1.set_ylabel('Cost')             ;  ax2.set_ylabel('Cost') \n",
        "ax1.set_xlabel('iteration step')   ;  ax2.set_xlabel('iteration step') \n",
        "plt.show()"
      ],
      "metadata": {
        "colab": {
          "base_uri": "https://localhost:8080/",
          "height": 1000
        },
        "id": "eCY69IgX1m9o",
        "outputId": "53589cfe-4858-47b7-9f11-86bfd972c199"
      },
      "execution_count": 50,
      "outputs": [
        {
          "output_type": "display_data",
          "data": {
            "text/plain": [
              "<Figure size 1440x2160 with 2 Axes>"
            ],
            "image/png": "[encoded data removed]"
          },
          "metadata": {
            "needs_background": "light"
          }
        }
      ]
    },
    {
      "cell_type": "code",
      "source": [],
      "metadata": {
        "id": "sX6CluyL2duG"
      },
      "execution_count": null,
      "outputs": []
    }
  ]
}